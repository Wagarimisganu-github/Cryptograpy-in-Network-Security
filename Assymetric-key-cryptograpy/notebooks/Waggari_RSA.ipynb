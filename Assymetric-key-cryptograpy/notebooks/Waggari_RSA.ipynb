{
  "nbformat": 4,
  "nbformat_minor": 0,
  "metadata": {
    "colab": {
      "provenance": []
    },
    "kernelspec": {
      "name": "python3",
      "display_name": "Python 3"
    },
    "language_info": {
      "name": "python"
    }
  },
  "cells": [
    {
      "cell_type": "markdown",
      "source": [
        "🔐 RSA (Rivest–Shamir–Adleman) Algorithm\n",
        "📘 1. Introduction\n",
        "RSA is one of the first and most widely used asymmetric encryption algorithms. It is used for:\n",
        "\n",
        "Confidential data exchange\n",
        "\n",
        "Digital signatures\n",
        "\n",
        "Secure key exchange\n",
        "\n",
        "RSA uses two keys:\n",
        "\n",
        "A public key to encrypt\n",
        "\n",
        "A private key to decrypt\n",
        "\n",
        "It is computationally secure based on the difficulty of factoring large integers.\n",
        "\n",
        "🧮 2. Algorithm Summary\n",
        "✅ Key Generation\n",
        "Choose two large prime numbers: p and q\n",
        "\n",
        "Compute n = p * q\n",
        "\n",
        "Compute Euler’s totient: φ(n) = (p - 1)(q - 1)\n",
        "\n",
        "Choose a public key e such that:\n",
        "\n",
        "1 < e < φ(n)\n",
        "\n",
        "gcd(e, φ(n)) = 1\n",
        "\n",
        "Compute private key d such that:\n",
        "\n",
        "d ≡ e⁻¹ (mod φ(n))\n",
        "\n",
        "✅ Public Key\n",
        "scss\n",
        "Copy\n",
        "Edit\n",
        "(e, n)\n",
        "✅ Private Key\n",
        "scss\n",
        "Copy\n",
        "Edit\n",
        "(d, n)\n",
        "🔐 Encryption\n",
        "Convert the message to an integer m, then:\n",
        "\n",
        "ini\n",
        "Copy\n",
        "Edit\n",
        "cipher = (m ^ e) mod n\n",
        "🔓 Decryption\n",
        "ini\n",
        "Copy\n",
        "Edit\n",
        "message = (cipher ^ d) mod n\n",
        "📌 Application Areas of RSA\n",
        "Secure email (PGP, S/MIME)\n",
        "\n",
        "SSL/TLS (used in HTTPS)\n",
        "\n",
        "Digital signatures\n",
        "\n",
        "Cryptographic key exchange\n",
        "\n",
        "Blockchain and cryptocurrencies\n",
        "\n",
        "⚠️ Note:\n",
        "RSA is not used to encrypt large messages directly — only small blocks or symmetric keys due to computational intensity.\n",
        "\n"
      ],
      "metadata": {
        "id": "yEw3X4K2HfGY"
      }
    },
    {
      "cell_type": "markdown",
      "source": [
        "Author **Waggari Misganu Ebsa**( **Certified in Cyber Security**), **Msc in Computer Science**"
      ],
      "metadata": {
        "id": "AMCaVsy4H1gZ"
      }
    },
    {
      "cell_type": "code",
      "execution_count": 1,
      "metadata": {
        "colab": {
          "base_uri": "https://localhost:8080/"
        },
        "id": "7tNEVHe0HG1E",
        "outputId": "53f12a62-4c00-4d09-d8d7-aade5346db55"
      },
      "outputs": [
        {
          "output_type": "stream",
          "name": "stdout",
          "text": [
            "Collecting pycryptodome\n",
            "  Downloading pycryptodome-3.23.0-cp37-abi3-manylinux_2_17_x86_64.manylinux2014_x86_64.whl.metadata (3.4 kB)\n",
            "Downloading pycryptodome-3.23.0-cp37-abi3-manylinux_2_17_x86_64.manylinux2014_x86_64.whl (2.3 MB)\n",
            "\u001b[2K   \u001b[90m━━━━━━━━━━━━━━━━━━━━━━━━━━━━━━━━━━━━━━━━\u001b[0m \u001b[32m2.3/2.3 MB\u001b[0m \u001b[31m22.0 MB/s\u001b[0m eta \u001b[36m0:00:00\u001b[0m\n",
            "\u001b[?25hInstalling collected packages: pycryptodome\n",
            "Successfully installed pycryptodome-3.23.0\n"
          ]
        }
      ],
      "source": [
        "pip install pycryptodome\n"
      ]
    },
    {
      "cell_type": "code",
      "source": [
        "# 🔐 RSA Encryption/Decryption using PyCryptodome\n",
        "\n",
        "from Crypto.PublicKey import RSA\n",
        "from Crypto.Cipher import PKCS1_OAEP\n",
        "from Crypto.Random import get_random_bytes\n",
        "\n",
        "# 1. Generate RSA Key Pair\n",
        "key = RSA.generate(2048)\n",
        "public_key = key.publickey()\n",
        "encryptor = PKCS1_OAEP.new(public_key)\n",
        "decryptor = PKCS1_OAEP.new(key)\n",
        "\n",
        "# 2. Input from user\n",
        "message = input(\"Enter a message to encrypt (ASCII text): \").encode()\n",
        "\n",
        "# 3. Encrypt\n",
        "ciphertext = encryptor.encrypt(message)\n",
        "print(\"🔒 Encrypted (hex):\", ciphertext.hex())\n",
        "\n",
        "# 4. Decrypt\n",
        "decrypted = decryptor.decrypt(ciphertext)\n",
        "print(\"🔓 Decrypted message:\", decrypted.decode())\n",
        "\n",
        "# 5. Match check\n",
        "if decrypted.decode() == message.decode():\n",
        "    print(\"\\n✅ Decryption successful and matches original plaintext.\")\n",
        "else:\n",
        "    print(\"\\n❌ Decryption failed.\")\n"
      ],
      "metadata": {
        "colab": {
          "base_uri": "https://localhost:8080/"
        },
        "id": "9jkPlERjHNRJ",
        "outputId": "ddb7b8f8-645b-4210-f754-3d7d4408952f"
      },
      "execution_count": 2,
      "outputs": [
        {
          "output_type": "stream",
          "name": "stdout",
          "text": [
            "Enter a message to encrypt (ASCII text): NETWORK SECURITY\n",
            "🔒 Encrypted (hex): 68d724dbb9579cacf5f6f1bd61898f7b610846a1cdfae4c4d07b881f996389c05b2c0b65675aae4e233d4574b699555304647e8af47392f760d671e3a6897c072ee6db57e4cbf0c43dceeee5735d6b352a5ea389ea9e3dd72a6b5d98450461547e3a708e48c2004ecdba501a73494e3c327995ca26d7c806e1ebfab8923110c5bf0b8e6933a83126344a366dafde43bf22f690e8c190d75abf76f9db07867c86cf6d8f6e11ccd7dec80c14064f1422919f29a9d119ddd9670b6207df6ff60bca8e1597f7cd0079fc16cbb4ed251caa1facc8f541eea8c0e107a3c8d3cf18e0ccc28539dc98512370d9618e6d6a48e97521513175a1fb1f0085635809153be5a8\n",
            "🔓 Decrypted message: NETWORK SECURITY\n",
            "\n",
            "✅ Decryption successful and matches original plaintext.\n"
          ]
        }
      ]
    }
  ]
}