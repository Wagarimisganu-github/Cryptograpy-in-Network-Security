{
  "nbformat": 4,
  "nbformat_minor": 0,
  "metadata": {
    "colab": {
      "provenance": []
    },
    "kernelspec": {
      "name": "python3",
      "display_name": "Python 3"
    },
    "language_info": {
      "name": "python"
    }
  },
  "cells": [
    {
      "cell_type": "markdown",
      "source": [
        "🔐 Hash Functions in Cryptography\n",
        "📘 1. Introduction\n",
        "A hash function is a one-way function that transforms an input (message) into a fixed-size string of characters, which is typically a digest of the message.\n",
        "\n",
        "Key properties:\n",
        "\n",
        "Deterministic (same input → same hash)\n",
        "\n",
        "Fast computation\n",
        "\n",
        "Irreversible (no decryption)\n",
        "\n",
        "Collision-resistant (no two inputs should give same hash)\n",
        "\n",
        "✅ Common algorithms:\n",
        "\n",
        "SHA-1 (deprecated)\n",
        "\n",
        "SHA-256\n",
        "\n",
        "SHA-3\n",
        "\n",
        "MD5 (insecure, for non-secure uses only)\n",
        "\n",
        "🧮 2. Hashing Algorithm\n",
        "Let:\n",
        "\n",
        "M = original message\n",
        "\n",
        "H(M) = hash of message\n",
        "\n",
        "✅ Steps:\n",
        "Accept input message M\n",
        "\n",
        "Apply hash function: digest = H(M)\n",
        "\n",
        "Output fixed-length hash value\n",
        "\n",
        "🛑 Note: Hash functions do not support decryption. You verify the hash by re-hashing and comparing the values.\n",
        "\n",
        "🔄 3. Verification Instead of Decryption\n",
        "To check if a given hash matches an original message:\n",
        "\n",
        "python\n",
        "Copy\n",
        "Edit\n",
        "if hash_function(message) == provided_hash:\n",
        "    print(\"✅ Match!\")\n",
        "📌 4. Application Areas of Hash Functions\n",
        "Data integrity checks (e.g., file downloads)\n",
        "\n",
        "Digital signatures\n",
        "\n",
        "Password storage (only hash stored, not the password)\n",
        "\n",
        "Blockchain (proof-of-work, block linking)\n",
        "\n",
        "Message Authentication Codes (MACs)\n",
        "\n",
        "⚠️ 5. Limitations\n",
        "Cannot encrypt or decrypt\n",
        "\n",
        "Vulnerable to brute force or dictionary attacks (if not salted)"
      ],
      "metadata": {
        "id": "VOaKCha4JUXw"
      }
    },
    {
      "cell_type": "markdown",
      "source": [
        "Author **Waggari Misganu Ebsa**( **Certified in Cyber Security**), **Msc in Computer Science**"
      ],
      "metadata": {
        "id": "zaf6lG72Jiq4"
      }
    },
    {
      "cell_type": "code",
      "execution_count": 1,
      "metadata": {
        "colab": {
          "base_uri": "https://localhost:8080/"
        },
        "id": "1GjOIB3xJAaf",
        "outputId": "829b5976-b283-4fc8-8388-e4a759fdf1d3"
      },
      "outputs": [
        {
          "output_type": "stream",
          "name": "stdout",
          "text": [
            "Enter a message to hash: NETWORK SECURITY\n",
            "🔐 Hashed Message (SHA-256): 8b391abf0dac912310e1261911a67bb33cea1fb3c2bcb7529ab89432ac6f33de\n",
            "\n",
            "Enter a message to verify against the hash: NETWORK SECURITY\n",
            "✅ Hash matches! Integrity verified.\n"
          ]
        }
      ],
      "source": [
        "import hashlib\n",
        "\n",
        "# Hashing function using SHA-256\n",
        "def hash_sha256(message):\n",
        "    return hashlib.sha256(message.encode()).hexdigest()\n",
        "\n",
        "# Step 1: Accept user input\n",
        "message = input(\"Enter a message to hash: \")\n",
        "hashed_message = hash_sha256(message)\n",
        "\n",
        "# Step 2: Output hash\n",
        "print(\"🔐 Hashed Message (SHA-256):\", hashed_message)\n",
        "\n",
        "# Step 3: Simulate verification (not decryption)\n",
        "check_message = input(\"\\nEnter a message to verify against the hash: \")\n",
        "if hash_sha256(check_message) == hashed_message:\n",
        "    print(\"✅ Hash matches! Integrity verified.\")\n",
        "else:\n",
        "    print(\"❌ Hash mismatch. The messages are different.\")\n"
      ]
    }
  ]
}