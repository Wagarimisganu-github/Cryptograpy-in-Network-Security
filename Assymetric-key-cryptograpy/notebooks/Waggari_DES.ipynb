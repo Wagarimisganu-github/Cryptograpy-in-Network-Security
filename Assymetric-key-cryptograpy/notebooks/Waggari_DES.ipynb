{
  "nbformat": 4,
  "nbformat_minor": 0,
  "metadata": {
    "colab": {
      "provenance": []
    },
    "kernelspec": {
      "name": "python3",
      "display_name": "Python 3"
    },
    "language_info": {
      "name": "python"
    }
  },
  "cells": [
    {
      "cell_type": "markdown",
      "source": [
        "🔐 DES (Data Encryption Standard)\n",
        "📘 1. Introduction\n",
        "DES (Data Encryption Standard) is a symmetric-key block cipher standardized by NIST in the 1970s for secure data encryption.\n",
        "•\tOperates on 64-bit (8-byte) blocks.\n",
        "•\tUses a 56-bit effective key (stored as a 64-bit key with 8 parity bits).\n",
        "•\tPerforms 16 rounds of complex permutation and substitution.\n",
        "•\tUses Feistel structure.\n",
        "Despite being considered insecure today due to its short key length, DES laid the foundation for modern symmetric encryption systems like AES.\n",
        "🧮 2. DES Algorithm Summary\n",
        "•\tBlock size: 64 bits\n",
        "•\tKey size: 56 bits (64 bits with parity)\n",
        "•\tRounds: 16 Feistel rounds\n",
        "•\tStructure: Substitution-permutation network (Feistel)\n",
        "✅ Encryption Steps\n",
        "1.\tConvert message into 64-bit blocks.\n",
        "2.\tApply initial permutation (IP).\n",
        "3.\tPerform 16 rounds of Feistel operations.\n",
        "4.\tApply inverse permutation (IP⁻¹).\n",
        "5.\tCombine blocks into cipher text.\n",
        "✅ Decryption Steps\n",
        "•\tSame as encryption but with the reverse key schedule.\n",
        "💡 3. Application Areas\n",
        "Though DES is deprecated, it was widely used for:\n",
        "•\tFinancial systems (e.g., ATM PIN encryption)\n",
        "•\tSmart cards\n",
        "•\tSecure email and data transmission\n",
        "•\tLegacy systems\n",
        "Modern variants like 3DES and AES have replaced DES in secure applications.\n",
        "⚠️ 4. Security Issues\n",
        "•\tKey length (56-bit) is vulnerable to brute-force attacks.\n",
        "•\tIn 1998, EFF built a machine that cracked DES in 56 hours.\n"
      ],
      "metadata": {
        "id": "yrWbpZY_DRCd"
      }
    },
    {
      "cell_type": "markdown",
      "source": [
        "Prepared By **Waggari Misganu Ebsa**( **Certified in Cyber Security**), **Msc in Computer Science**"
      ],
      "metadata": {
        "id": "dIsLJYFVEngb"
      }
    },
    {
      "cell_type": "code",
      "execution_count": 3,
      "metadata": {
        "colab": {
          "base_uri": "https://localhost:8080/"
        },
        "id": "RZA2W7usCqGZ",
        "outputId": "c9dff258-6114-4e1d-d11d-41315dc443d3"
      },
      "outputs": [
        {
          "output_type": "stream",
          "name": "stdout",
          "text": [
            "Requirement already satisfied: pycryptodome in /usr/local/lib/python3.11/dist-packages (3.23.0)\n"
          ]
        }
      ],
      "source": [
        "pip install pycryptodome\n"
      ]
    },
    {
      "cell_type": "code",
      "source": [
        "# 🔐 DES Encryption/Decryption using PyCryptodome\n",
        "\n",
        "from Crypto.Cipher import DES\n",
        "from Crypto.Util.Padding import pad, unpad\n",
        "\n",
        "# Helper: convert user input to valid 8-byte key\n",
        "def get_des_key(raw_key):\n",
        "    return raw_key[:8].ljust(8, '0').encode()\n",
        "\n",
        "# User Input\n",
        "raw_key = input(\"Enter a key (8 characters max): \")\n",
        "key = get_des_key(raw_key)\n",
        "\n",
        "message = input(\"Enter the message to encrypt: \").encode()\n",
        "\n",
        "# Create DES cipher in ECB mode\n",
        "cipher = DES.new(key, DES.MODE_ECB)\n",
        "\n",
        "# Pad message to multiple of 8 bytes\n",
        "padded_message = pad(message, DES.block_size)\n",
        "\n",
        "# Encrypt\n",
        "encrypted = cipher.encrypt(padded_message)\n",
        "print(\"🔒 Encrypted (hex):\", encrypted.hex())\n",
        "\n",
        "# Decrypt\n",
        "cipher_dec = DES.new(key, DES.MODE_ECB)\n",
        "decrypted_padded = cipher_dec.decrypt(encrypted)\n",
        "\n",
        "# Unpad to get original message\n",
        "decrypted = unpad(decrypted_padded, DES.block_size)\n",
        "print(\"🔓 Decrypted message:\", decrypted.decode())\n",
        "\n",
        "# Match check\n",
        "if decrypted.decode() == message.decode():\n",
        "    print(\"\\n✅ Decryption successful and matches original plaintext.\")\n",
        "else:\n",
        "    print(\"\\n❌ Decryption failed. Check key and input.\")\n"
      ],
      "metadata": {
        "colab": {
          "base_uri": "https://localhost:8080/"
        },
        "id": "-xvYvxfzC5fi",
        "outputId": "6922ab57-1c43-460d-e486-11950913bc1d"
      },
      "execution_count": 2,
      "outputs": [
        {
          "output_type": "stream",
          "name": "stdout",
          "text": [
            "Enter a key (8 characters max): WAGGARI\n",
            "Enter the message to encrypt: NETWORK SECURITY\n",
            "🔒 Encrypted (hex): b38b33eeabfbf048068d0d61b4a39116a9d032928270b958\n",
            "🔓 Decrypted message: NETWORK SECURITY\n",
            "\n",
            "✅ Decryption successful and matches original plaintext.\n"
          ]
        }
      ]
    }
  ]
}