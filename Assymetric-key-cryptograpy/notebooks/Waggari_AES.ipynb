{
  "nbformat": 4,
  "nbformat_minor": 0,
  "metadata": {
    "colab": {
      "provenance": []
    },
    "kernelspec": {
      "name": "python3",
      "display_name": "Python 3"
    },
    "language_info": {
      "name": "python"
    }
  },
  "cells": [
    {
      "cell_type": "markdown",
      "source": [
        "🔐 AES (Advanced Encryption Standard)\n",
        "📘 1. Introduction\n",
        "AES (Advanced Encryption Standard) is the current U.S. federal standard for symmetric key encryption, adopted by NIST in 2001.\n",
        "\n",
        "Based on the Rijndael cipher\n",
        "\n",
        "Uses a block size of 128 bits (16 bytes)\n",
        "\n",
        "Supports key sizes of 128, 192, or 256 bits\n",
        "\n",
        "Extremely fast and secure for modern applications\n",
        "\n",
        "🧮 2. AES Algorithm Overview\n",
        "AES operates on a 4×4 column-major order matrix of bytes, called the state.\n",
        "\n",
        "✅ Main Steps in AES:\n",
        "Key Expansion\n",
        "\n",
        "Initial Round\n",
        "\n",
        "AddRoundKey\n",
        "\n",
        "Rounds (repeated):\n",
        "\n",
        "SubBytes\n",
        "\n",
        "ShiftRows\n",
        "\n",
        "MixColumns\n",
        "\n",
        "AddRoundKey\n",
        "\n",
        "Final Round (without MixColumns)\n",
        "\n",
        "✅ Encryption & Decryption Flow\n",
        "Encryption and decryption follow the same steps with reverse operations during decryption.\n",
        "\n",
        "Secure and efficient due to substitution–permutation network structure.\n",
        "\n",
        "🔑 3. AES Parameters\n",
        "Key Size\tNo. of Rounds\n",
        "128-bit\t10\n",
        "192-bit\t12\n",
        "256-bit\t14\n",
        "\n",
        "💡 4. Application Areas of AES\n",
        "AES is the industry standard and used in:\n",
        "\n",
        "TLS/SSL (HTTPS web encryption)\n",
        "\n",
        "Wi-Fi security (WPA2/WPA3)\n",
        "\n",
        "Secure file storage (e.g., BitLocker, VeraCrypt)\n",
        "\n",
        "Mobile communication (Signal, WhatsApp)\n",
        "\n",
        "Banking systems and credit card transactions"
      ],
      "metadata": {
        "id": "Gr6VoIrHFvvN"
      }
    },
    {
      "cell_type": "markdown",
      "source": [
        "Prepared By **Waggari Misganu Ebsa**( **Certified in Cyber Security**), **Msc in Computer Science**"
      ],
      "metadata": {
        "id": "UJrpWu7xGC9j"
      }
    },
    {
      "cell_type": "code",
      "execution_count": 1,
      "metadata": {
        "colab": {
          "base_uri": "https://localhost:8080/"
        },
        "id": "OCayrY-BFRu7",
        "outputId": "8073b713-d5e2-4430-bd7e-6667633a5ae6"
      },
      "outputs": [
        {
          "output_type": "stream",
          "name": "stdout",
          "text": [
            "Collecting pycryptodome\n",
            "  Downloading pycryptodome-3.23.0-cp37-abi3-manylinux_2_17_x86_64.manylinux2014_x86_64.whl.metadata (3.4 kB)\n",
            "Downloading pycryptodome-3.23.0-cp37-abi3-manylinux_2_17_x86_64.manylinux2014_x86_64.whl (2.3 MB)\n",
            "\u001b[?25l   \u001b[90m━━━━━━━━━━━━━━━━━━━━━━━━━━━━━━━━━━━━━━━━\u001b[0m \u001b[32m0.0/2.3 MB\u001b[0m \u001b[31m?\u001b[0m eta \u001b[36m-:--:--\u001b[0m\r\u001b[2K   \u001b[91m━━━━━━━━━━━━━━━━━━━━━━━━━━━━━━━━━━━━━━━\u001b[0m\u001b[91m╸\u001b[0m \u001b[32m2.3/2.3 MB\u001b[0m \u001b[31m69.2 MB/s\u001b[0m eta \u001b[36m0:00:01\u001b[0m\r\u001b[2K   \u001b[90m━━━━━━━━━━━━━━━━━━━━━━━━━━━━━━━━━━━━━━━━\u001b[0m \u001b[32m2.3/2.3 MB\u001b[0m \u001b[31m41.5 MB/s\u001b[0m eta \u001b[36m0:00:00\u001b[0m\n",
            "\u001b[?25hInstalling collected packages: pycryptodome\n",
            "Successfully installed pycryptodome-3.23.0\n"
          ]
        }
      ],
      "source": [
        "pip install pycryptodome\n"
      ]
    },
    {
      "cell_type": "code",
      "source": [
        "# 🔐 AES Encryption/Decryption using PyCryptodome\n",
        "\n",
        "from Crypto.Cipher import AES\n",
        "from Crypto.Util.Padding import pad, unpad\n",
        "from Crypto.Random import get_random_bytes\n",
        "\n",
        "# AES block size is fixed at 16 bytes (128 bits)\n",
        "BLOCK_SIZE = AES.block_size  # 16\n",
        "\n",
        "# Get input message\n",
        "message = input(\"Enter the message to encrypt (any length): \").encode()\n",
        "\n",
        "# Generate a secure 16-byte AES key\n",
        "key = get_random_bytes(16)\n",
        "print(\"🔑 AES Key (hex):\", key.hex())\n",
        "\n",
        "# Generate a random IV for CBC mode\n",
        "iv = get_random_bytes(16)\n",
        "print(\"📥 Initialization Vector (IV) (hex):\", iv.hex())\n",
        "\n",
        "# Encrypt using AES CBC mode\n",
        "cipher = AES.new(key, AES.MODE_CBC, iv)\n",
        "ciphertext = cipher.encrypt(pad(message, BLOCK_SIZE))\n",
        "print(\"🔒 Encrypted (hex):\", ciphertext.hex())\n",
        "\n",
        "# Decrypt\n",
        "decipher = AES.new(key, AES.MODE_CBC, iv)\n",
        "decrypted_padded = decipher.decrypt(ciphertext)\n",
        "decrypted = unpad(decrypted_padded, BLOCK_SIZE)\n",
        "\n",
        "print(\"🔓 Decrypted message:\", decrypted.decode())\n",
        "\n",
        "# Verification\n",
        "if decrypted.decode() == message.decode():\n",
        "    print(\"\\n✅ Decryption successful and matches original plaintext.\")\n",
        "else:\n",
        "    print(\"\\n❌ Decryption failed.\")\n"
      ],
      "metadata": {
        "colab": {
          "base_uri": "https://localhost:8080/"
        },
        "id": "c-GWGJfEFVJK",
        "outputId": "62e60652-f4e2-4c0c-9902-20b58f8a7afd"
      },
      "execution_count": 2,
      "outputs": [
        {
          "output_type": "stream",
          "name": "stdout",
          "text": [
            "Enter the message to encrypt (any length): NETWORK SECURITY\n",
            "🔑 AES Key (hex): 3517b1d67b589f0bf5cc466a497e2b24\n",
            "📥 Initialization Vector (IV) (hex): 78d535632cf891ad450a2302d8d2caab\n",
            "🔒 Encrypted (hex): 361554e98a9683f397fa078066715426ea9bdf627856cdc75b71b0242bf6c325\n",
            "🔓 Decrypted message: NETWORK SECURITY\n",
            "\n",
            "✅ Decryption successful and matches original plaintext.\n"
          ]
        }
      ]
    }
  ]
}