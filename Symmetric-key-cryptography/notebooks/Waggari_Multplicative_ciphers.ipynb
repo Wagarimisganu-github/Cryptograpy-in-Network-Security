{
  "nbformat": 4,
  "nbformat_minor": 0,
  "metadata": {
    "colab": {
      "provenance": []
    },
    "kernelspec": {
      "name": "python3",
      "display_name": "Python 3"
    },
    "language_info": {
      "name": "python"
    }
  },
  "cells": [
    {
      "cell_type": "markdown",
      "source": [
        "🔐 Multiplicative Cipher\n",
        "\n",
        "📘 1. Introduction\n",
        "The Multiplicative Cipher is a type of monoalphabetic substitution cipher that transforms each letter of the plaintext into another letter by multiplying its position in the alphabet by a key and applying modulo 26.\n",
        "•\tIt’s part of symmetric key encryption.\n",
        "•\tUnlike the Additive Cipher, it involves modular multiplication.\n",
        "•\tThe key must be coprime with 26 to ensure decryption is possible.\n",
        "\n",
        "🧮 2. Algorithm\n",
        "Let:\n",
        "•\tP = Position of the plaintext letter (0–25)\n",
        "•\tK = Encryption key (must be coprime with 26)\n",
        "•\tC = Encrypted character\n",
        "•\tK_inv = Modular inverse of K (used in decryption)\n",
        "✅ Encryption:\n",
        "C = (P × K) mod 26\n",
        "✅ Decryption:\n",
        "P = (C × K_inv) mod 26\n",
        "Where:\n",
        "•\tThe modular inverse K_inv is a number such that (K × K_inv) % 26 == 1.\n",
        "\n",
        "📌 3. Valid Keys\n",
        "Only numbers coprime with 26 can be used as keys. Valid values:\n",
        "1, 3, 5, 7, 9, 11, 15, 17, 19, 21, 23, 25\n",
        "________________________________________\n",
        "💡 5. Application Areas\n",
        "•\tEarly cryptographic methods for secure communication\n",
        "•\tEducational tool for learning modular arithmetic and cryptography\n",
        "•\tComponent in more complex ciphers like Affine Cipher\n",
        "________________________________________\n"
      ],
      "metadata": {
        "id": "86lilLqQA4yV"
      }
    },
    {
      "cell_type": "markdown",
      "source": [
        "Prepared By **Waggari Misganu Ebsa**( **Certified in Cyber Security**), **Msc in Computer Science**"
      ],
      "metadata": {
        "id": "ZqsbiWE8Bgf7"
      }
    },
    {
      "cell_type": "code",
      "execution_count": 1,
      "metadata": {
        "colab": {
          "base_uri": "https://localhost:8080/"
        },
        "id": "frKFfySj_4ZF",
        "outputId": "c0bcab31-2158-49e3-e1b5-a578694f0d8e"
      },
      "outputs": [
        {
          "output_type": "stream",
          "name": "stdout",
          "text": [
            "Enter the message (letters only): network security engineer\n",
            "Enter the key (must be coprime with 26): 15\n",
            "\n",
            "Encrypted message: NIZSCVU KIEOVQZW INMQNIIV\n",
            "Decrypted message: NETWORK SECURITY ENGINEER\n",
            "\n",
            "✅ Decryption successful and matches the original plaintext.\n"
          ]
        }
      ],
      "source": [
        "# 🔐 Multiplicative Cipher Implementation\n",
        "\n",
        "def is_coprime(a, b):\n",
        "    while b != 0:\n",
        "        a, b = b, a % b\n",
        "    return a == 1\n",
        "\n",
        "def mod_inverse(key, mod=26):\n",
        "    for x in range(1, mod):\n",
        "        if (key * x) % mod == 1:\n",
        "            return x\n",
        "    return None\n",
        "\n",
        "def multiplicative_encrypt(message, key):\n",
        "    cipher = ''\n",
        "    for char in message.upper():\n",
        "        if char.isalpha():\n",
        "            cipher += chr(((ord(char) - 65) * key) % 26 + 65)\n",
        "        else:\n",
        "            cipher += char\n",
        "    return cipher\n",
        "\n",
        "def multiplicative_decrypt(cipher, key):\n",
        "    key_inv = mod_inverse(key, 26)\n",
        "    if key_inv is None:\n",
        "        raise ValueError(\"No modular inverse for the key exists. Decryption not possible.\")\n",
        "\n",
        "    plain = ''\n",
        "    for char in cipher:\n",
        "        if char.isalpha():\n",
        "            plain += chr(((ord(char) - 65) * key_inv) % 26 + 65)\n",
        "        else:\n",
        "            plain += char\n",
        "    return plain\n",
        "\n",
        "# Input from user\n",
        "message = input(\"Enter the message (letters only): \")\n",
        "key = int(input(\"Enter the key (must be coprime with 26): \"))\n",
        "\n",
        "if not is_coprime(key, 26):\n",
        "    print(\"❌ Invalid key. It must be coprime with 26.\")\n",
        "else:\n",
        "    cipher_text = multiplicative_encrypt(message, key)\n",
        "    print(\"\\nEncrypted message:\", cipher_text)\n",
        "\n",
        "    decrypted_message = multiplicative_decrypt(cipher_text, key)\n",
        "    print(\"Decrypted message:\", decrypted_message)\n",
        "\n",
        "    # Verify\n",
        "    if decrypted_message == message.upper():\n",
        "        print(\"\\n✅ Decryption successful and matches the original plaintext.\")\n",
        "    else:\n",
        "        print(\"\\n❌ Decryption failed. The result does not match the original.\")\n"
      ]
    }
  ]
}