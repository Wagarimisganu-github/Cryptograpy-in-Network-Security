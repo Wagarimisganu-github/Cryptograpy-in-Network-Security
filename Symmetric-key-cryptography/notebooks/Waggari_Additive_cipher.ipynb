{
  "nbformat": 4,
  "nbformat_minor": 0,
  "metadata": {
    "colab": {
      "provenance": []
    },
    "kernelspec": {
      "name": "python3",
      "display_name": "Python 3"
    },
    "language_info": {
      "name": "python"
    }
  },
  "cells": [
    {
      "cell_type": "markdown",
      "source": [
        "🔐 Additive Cipher (Caesar Cipher)\n",
        "📘 1. Introduction\n",
        "The Additive Cipher is a substitution cipher where each letter in the plaintext is shifted by a fixed number of positions (called the key) in the alphabet.\n",
        "•\tIt is one of the oldest encryption techniques.\n",
        "•\tIt belongs to the family of symmetric key cryptography.\n",
        "•\tThe key is the number of positions to shift.\n",
        "🔑 2. Algorithm\n",
        "📥 Encryption Algorithm\n",
        "Let:\n",
        "•\tP be the position of the plaintext character (0 to 25)\n",
        "•\tK be the key (shift)\n",
        "•\tC be the position of the cipher character\n",
        "Formula:\n",
        "C = (P + K) mod 26\n",
        "📤 Decryption Algorithm\n",
        "Let:\n",
        "•\tC be the position of the cipher character\n",
        "•\tK be the key\n",
        "•\tP be the recovered position of the plaintext character\n",
        "Formula:\n",
        "P = (C - K) mod 26\n",
        "All letters are converted to uppercase, and only alphabetic characters are processed.\n",
        "\n",
        "💡 3. Application Areas\n",
        "•\tEarly military communications\n",
        "•\tBasic information hiding in educational tools\n",
        "•\tFundamental teaching tool in cryptography education\n",
        "•\tNot used for secure communication today due to its simplicity\n",
        "\n",
        "\n",
        "\n"
      ],
      "metadata": {
        "id": "QNNvhSZu8IW2"
      }
    },
    {
      "cell_type": "markdown",
      "source": [
        "Prepared By **Waggari Misganu Ebsa**( **Certified in Cyber Security**), **Msc in Computer Science**"
      ],
      "metadata": {
        "id": "dvBuzuMk9q4X"
      }
    },
    {
      "cell_type": "code",
      "source": [],
      "metadata": {
        "id": "XxKPCOsh8F1u"
      },
      "execution_count": null,
      "outputs": []
    },
    {
      "cell_type": "code",
      "execution_count": 1,
      "metadata": {
        "colab": {
          "base_uri": "https://localhost:8080/"
        },
        "id": "6p6QMsFV7ouB",
        "outputId": "8c69262f-3865-482b-fab5-4f4d2bb21fd2"
      },
      "outputs": [
        {
          "output_type": "stream",
          "name": "stdout",
          "text": [
            "Enter your plaintext message (letters only): NETWORK SECURITY\n",
            "Enter the key (0-25): 15\n",
            "\n",
            "Encrypted message: CTILDGZ HTRJGXIN\n",
            "Decrypted message: NETWORK SECURITY\n",
            "\n",
            "✅ Decryption is successful and matches the original plaintext.\n"
          ]
        }
      ],
      "source": [
        "# 🔐 Additive Cipher (Caesar Cipher) with Full Encryption/Decryption\n",
        "\n",
        "def additive_encrypt(message, key):\n",
        "    cipher = ''\n",
        "    for char in message.upper():\n",
        "        if char.isalpha():\n",
        "            cipher += chr((ord(char) - 65 + key) % 26 + 65)\n",
        "        else:\n",
        "            cipher += char\n",
        "    return cipher\n",
        "\n",
        "def additive_decrypt(cipher, key):\n",
        "    decrypted = ''\n",
        "    for char in cipher:\n",
        "        if char.isalpha():\n",
        "            decrypted += chr((ord(char) - 65 - key) % 26 + 65)\n",
        "        else:\n",
        "            decrypted += char\n",
        "    return decrypted\n",
        "\n",
        "# Accept user input\n",
        "message = input(\"Enter your plaintext message (letters only): \").strip()\n",
        "key = int(input(\"Enter the key (0-25): \"))\n",
        "\n",
        "# Encrypt\n",
        "cipher_text = additive_encrypt(message, key)\n",
        "print(\"\\nEncrypted message:\", cipher_text)\n",
        "\n",
        "# Decrypt\n",
        "decrypted_message = additive_decrypt(cipher_text, key)\n",
        "print(\"Decrypted message:\", decrypted_message)\n",
        "\n",
        "# Verify match\n",
        "if decrypted_message == message.upper():\n",
        "    print(\"\\n✅ Decryption is successful and matches the original plaintext.\")\n",
        "else:\n",
        "    print(\"\\n❌ Decryption failed. The result does not match the original.\")\n"
      ]
    }
  ]
}